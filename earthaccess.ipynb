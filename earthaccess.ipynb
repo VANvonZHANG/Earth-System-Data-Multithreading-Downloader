{
 "cells": [
  {
   "cell_type": "code",
   "execution_count": 7,
   "metadata": {},
   "outputs": [
    {
     "name": "stdout",
     "output_type": "stream",
     "text": [
      "http_proxy: 127.0.0.1:7890\n",
      "https_proxy: 127.0.0.1:7890\n"
     ]
    }
   ],
   "source": [
    "import os\n",
    "\n",
    "print(\"http_proxy:\", os.getenv(\"http_proxy\"))\n",
    "print(\"https_proxy:\", os.getenv(\"https_proxy\"))\n"
   ]
  },
  {
   "cell_type": "code",
   "execution_count": 6,
   "metadata": {},
   "outputs": [
    {
     "name": "stdout",
     "output_type": "stream",
     "text": [
      "Proxy error: HTTPSConnectionPool(host='urs.earthdata.nasa.gov', port=443): Max retries exceeded with url: /api/users/tokens (Caused by ProxyError('Cannot connect to proxy.', TimeoutError('_ssl.c:985: The handshake operation timed out')))\n"
     ]
    }
   ],
   "source": [
    "import os\n",
    "import requests\n",
    "\n",
    "# 禁用代理\n",
    "os.environ[\"http_proxy\"] = \"127.0.0.1:7890\"\n",
    "os.environ[\"https_proxy\"] = \"127.0.0.1:7890\"\n",
    "\n",
    "# 尝试请求\n",
    "try:\n",
    "    response = requests.get(\"https://urs.earthdata.nasa.gov/api/users/tokens\", timeout=10)\n",
    "    print(response.status_code)\n",
    "except requests.exceptions.ProxyError as e:\n",
    "    print(\"Proxy error:\", e)\n",
    "except requests.exceptions.RequestException as e:\n",
    "    print(\"Request error:\", e)\n"
   ]
  },
  {
   "cell_type": "code",
   "execution_count": 4,
   "metadata": {},
   "outputs": [],
   "source": [
    "import earthaccess\n",
    "\n",
    "auth = earthaccess.login(strategy=\"interactive\", persist=True)"
   ]
  },
  {
   "cell_type": "code",
   "execution_count": 3,
   "metadata": {},
   "outputs": [],
   "source": [
    "#Import packages\n",
    "import earthaccess\n",
    "import xarray as xr"
   ]
  },
  {
   "cell_type": "code",
   "execution_count": 4,
   "metadata": {},
   "outputs": [],
   "source": [
    "#Authentication with Earthdata Login\n",
    "auth = earthaccess.login(strategy=\"netrc\")"
   ]
  }
 ],
 "metadata": {
  "kernelspec": {
   "display_name": "base",
   "language": "python",
   "name": "python3"
  },
  "language_info": {
   "codemirror_mode": {
    "name": "ipython",
    "version": 3
   },
   "file_extension": ".py",
   "mimetype": "text/x-python",
   "name": "python",
   "nbconvert_exporter": "python",
   "pygments_lexer": "ipython3",
   "version": "3.11.4"
  }
 },
 "nbformat": 4,
 "nbformat_minor": 2
}
