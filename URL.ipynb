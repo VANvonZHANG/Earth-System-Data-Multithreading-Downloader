{
 "cells": [
  {
   "cell_type": "code",
   "execution_count": 14,
   "metadata": {},
   "outputs": [
    {
     "name": "stderr",
     "output_type": "stream",
     "text": [
      "Downloading data from 'https://data.lpdaac.earthdatacloud.nasa.gov/lp-prod-protected/ASTGTM.003/ASTGTMV003_N03E008_dem.tif' to file 'C:\\Users\\bigvan\\AppData\\Local\\pooch\\pooch\\Cache\\dc50fa6f81fe75acb3b493367a198af3-ASTGTMV003_N03E008_dem.tif'.\n",
      "Downloading data from 'https://data.lpdaac.earthdatacloud.nasa.gov/lp-prod-protected/ASTGTM.003/ASTGTMV003_N03E008_num.tif' to file 'C:\\Users\\bigvan\\AppData\\Local\\pooch\\pooch\\Cache\\a9d00063fdc39c768d97a8847871d687-ASTGTMV003_N03E008_num.tif'.\n",
      "Downloading data from 'https://data.lpdaac.earthdatacloud.nasa.gov/lp-prod-protected/ASTGTM.003/ASTGTMV003_N02E022_num.tif' to file 'C:\\Users\\bigvan\\AppData\\Local\\pooch\\pooch\\Cache\\c3a0ddcd5ecaee1bc4bca803b4b8b171-ASTGTMV003_N02E022_num.tif'.\n",
      "Downloading data from 'https://data.lpdaac.earthdatacloud.nasa.gov/lp-prod-protected/ASTGTM.003/ASTGTMV003_N02E022_dem.tif' to file 'C:\\Users\\bigvan\\AppData\\Local\\pooch\\pooch\\Cache\\d1e9e7ed8e2931bb2315ca6951f8e553-ASTGTMV003_N02E022_dem.tif'.\n"
     ]
    },
    {
     "name": "stderr",
     "output_type": "stream",
     "text": [
      "Downloading data from 'https://data.lpdaac.earthdatacloud.nasa.gov/lp-prod-protected/ASTGTM.003/ASTGTMV003_N00W065_dem.tif' to file 'C:\\Users\\bigvan\\AppData\\Local\\pooch\\pooch\\Cache\\cd18de62acbba00db0182a4010301895-ASTGTMV003_N00W065_dem.tif'.\n",
      "Downloading data from 'https://data.lpdaac.earthdatacloud.nasa.gov/lp-prod-protected/ASTGTM.003/ASTGTMV003_N00W065_num.tif' to file 'C:\\Users\\bigvan\\AppData\\Local\\pooch\\pooch\\Cache\\cf4370d647300fcfbc21bf0f94621812-ASTGTMV003_N00W065_num.tif'.\n",
      "Downloading data from 'https://data.lpdaac.earthdatacloud.nasa.gov/lp-prod-protected/ASTGTM.003/ASTGTMV003_N01E009_dem.tif' to file 'C:\\Users\\bigvan\\AppData\\Local\\pooch\\pooch\\Cache\\33d8cc7f722e71e3359d7708c54892b0-ASTGTMV003_N01E009_dem.tif'.\n",
      "Downloading data from 'https://data.lpdaac.earthdatacloud.nasa.gov/lp-prod-protected/ASTGTM.003/ASTGTMV003_N01E009_num.tif' to file 'C:\\Users\\bigvan\\AppData\\Local\\pooch\\pooch\\Cache\\6969a74c74754e12a6f193806778416b-ASTGTMV003_N01E009_num.tif'.\n"
     ]
    },
    {
     "name": "stdout",
     "output_type": "stream",
     "text": [
      "Error downloading https://data.lpdaac.earthdatacloud.nasa.gov/lp-prod-protected/ASTGTM.003/ASTGTMV003_N03E008_dem.tif: Session.request() got an unexpected keyword argument 'retries'Error downloading https://data.lpdaac.earthdatacloud.nasa.gov/lp-prod-protected/ASTGTM.003/ASTGTMV003_N03E008_num.tif: Session.request() got an unexpected keyword argument 'retries'\n",
      "\n",
      "Error downloading https://data.lpdaac.earthdatacloud.nasa.gov/lp-prod-protected/ASTGTM.003/ASTGTMV003_N02E022_num.tif: Session.request() got an unexpected keyword argument 'retries'\n",
      "Error downloading https://data.lpdaac.earthdatacloud.nasa.gov/lp-prod-protected/ASTGTM.003/ASTGTMV003_N02E022_dem.tif: Session.request() got an unexpected keyword argument 'retries'\n",
      "Error downloading https://data.lpdaac.earthdatacloud.nasa.gov/lp-prod-protected/ASTGTM.003/ASTGTMV003_N00W065_dem.tif: Session.request() got an unexpected keyword argument 'retries'\n",
      "Error downloading https://data.lpdaac.earthdatacloud.nasa.gov/lp-prod-protected/ASTGTM.003/ASTGTMV003_N00W065_num.tif: Session.request() got an unexpected keyword argument 'retries'\n",
      "Error downloading https://data.lpdaac.earthdatacloud.nasa.gov/lp-prod-protected/ASTGTM.003/ASTGTMV003_N01E009_dem.tif: Session.request() got an unexpected keyword argument 'retries'\n",
      "Error downloading https://data.lpdaac.earthdatacloud.nasa.gov/lp-prod-protected/ASTGTM.003/ASTGTMV003_N01E009_num.tif: Session.request() got an unexpected keyword argument 'retries'\n"
     ]
    }
   ],
   "source": [
    "import pooch\n",
    "import os\n",
    "from concurrent.futures import ThreadPoolExecutor\n",
    "\n",
    "def download_file(url, save_path):\n",
    "    \"\"\"\n",
    "    Download a file from a given URL using pooch with retry and resume support.\n",
    "    \"\"\"\n",
    "    try:\n",
    "        # pooch will download the file with retry and resume support\n",
    "        pooch.retrieve(\n",
    "            url=url,\n",
    "            known_hash=None,  # Set this to None to disable hash checking\n",
    "            downloader=pooch.HTTPDownloader()\n",
    "        )\n",
    "        print(f\"Downloaded: {url}\")\n",
    "    except Exception as e:\n",
    "        print(f\"Error downloading {url}: {e}\")\n",
    "\n",
    "def download_from_txt(file_path, save_dir, max_workers=4):\n",
    "    if not os.path.exists(save_dir):\n",
    "        os.makedirs(save_dir)\n",
    "\n",
    "    # Read URLs from the txt file\n",
    "    with open(file_path, 'r') as file:\n",
    "        urls = [line.strip() for line in file.readlines() if line.strip()]\n",
    "\n",
    "    # Use ThreadPoolExecutor to download files concurrently\n",
    "    with ThreadPoolExecutor(max_workers=max_workers) as executor:\n",
    "        for url in urls:\n",
    "            # Determine the filename from the URL\n",
    "            filename = url.split(\"/\")[-1] or \"downloaded_file\"\n",
    "            save_path = os.path.join(save_dir, filename)\n",
    "            executor.submit(download_file, url, save_dir)\n",
    "\n",
    "if __name__ == \"__main__\":\n",
    "    # Example usage\n",
    "    txt_file_path = '9734334965-download1.txt'  # Your txt file containing the URLs\n",
    "    download_directory = 'downloads1'  # Directory to save downloaded files\n",
    "\n",
    "    download_from_txt(txt_file_path, download_directory)\n"
   ]
  },
  {
   "cell_type": "code",
   "execution_count": 8,
   "metadata": {},
   "outputs": [
    {
     "name": "stderr",
     "output_type": "stream",
     "text": [
      "d:\\anaconda3\\Lib\\site-packages\\paramiko\\transport.py:219: CryptographyDeprecationWarning: Blowfish has been deprecated\n",
      "  \"class\": algorithms.Blowfish,\n"
     ]
    }
   ],
   "source": [
    "import pooch\n",
    "import os\n",
    "from concurrent.futures import ThreadPoolExecutor\n"
   ]
  },
  {
   "cell_type": "code",
   "execution_count": null,
   "metadata": {},
   "outputs": [],
   "source": []
  },
  {
   "cell_type": "code",
   "execution_count": 6,
   "metadata": {},
   "outputs": [],
   "source": [
    "import os\n",
    "save_dir =  'downloads' \n",
    "if not os.path.exists(save_dir):\n",
    "    os.makedirs(save_dir)"
   ]
  },
  {
   "cell_type": "code",
   "execution_count": 7,
   "metadata": {},
   "outputs": [
    {
     "data": {
      "text/plain": [
       "'downloads\\\\ASTGTMV003_N03E008_dem.tif'"
      ]
     },
     "execution_count": 7,
     "metadata": {},
     "output_type": "execute_result"
    }
   ],
   "source": [
    "url = 'https://data.lpdaac.earthdatacloud.nasa.gov/lp-prod-protected/ASTGTM.003/ASTGTMV003_N03E008_dem.tif'\n",
    "filename = url.split(\"/\")[-1] or \"downloaded_file\"\n",
    "save_path = os.path.join(save_dir, filename)"
   ]
  },
  {
   "cell_type": "code",
   "execution_count": null,
   "metadata": {},
   "outputs": [],
   "source": [
    "pooch.os.makedirs(pooch.os.path.dirname(save_path), exist_ok=True)"
   ]
  },
  {
   "cell_type": "code",
   "execution_count": 9,
   "metadata": {},
   "outputs": [
    {
     "ename": "AttributeError",
     "evalue": "module 'pooch' has no attribute 'os'",
     "output_type": "error",
     "traceback": [
      "\u001b[1;31m---------------------------------------------------------------------------\u001b[0m",
      "\u001b[1;31mAttributeError\u001b[0m                            Traceback (most recent call last)",
      "Cell \u001b[1;32mIn[9], line 1\u001b[0m\n\u001b[1;32m----> 1\u001b[0m pooch\u001b[38;5;241m.\u001b[39mos\u001b[38;5;241m.\u001b[39mpath\u001b[38;5;241m.\u001b[39mdirname(save_path)\n",
      "\u001b[1;31mAttributeError\u001b[0m: module 'pooch' has no attribute 'os'"
     ]
    }
   ],
   "source": [
    "pooch.os.path.dirname(save_path)"
   ]
  }
 ],
 "metadata": {
  "kernelspec": {
   "display_name": "base",
   "language": "python",
   "name": "python3"
  },
  "language_info": {
   "codemirror_mode": {
    "name": "ipython",
    "version": 3
   },
   "file_extension": ".py",
   "mimetype": "text/x-python",
   "name": "python",
   "nbconvert_exporter": "python",
   "pygments_lexer": "ipython3",
   "version": "3.11.4"
  }
 },
 "nbformat": 4,
 "nbformat_minor": 2
}
