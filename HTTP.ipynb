{
 "cells": [
  {
   "cell_type": "code",
   "execution_count": 1,
   "metadata": {},
   "outputs": [],
   "source": [
    "import os\n",
    "import requests\n",
    "from getpass import getpass\n",
    "import tempfile\n",
    "\n",
    "# 临时文件存储\n",
    "cookiejar = tempfile.NamedTemporaryFile(delete=False)\n",
    "netrc_file = tempfile.NamedTemporaryFile(delete=False)\n",
    "\n",
    "def prompt_credentials():\n",
    "    \"\"\"提示用户输入Earthdata Login的用户名和密码，并将其写入到netrc文件\"\"\"\n",
    "    print(\"Enter your Earthdata Login or other provider supplied credentials\")\n",
    "    username = input(\"Username (bigvan): \") or \"bigvan\"\n",
    "    password = getpass(\"Password: \")\n",
    "\n",
    "    with open(netrc_file.name, 'w') as netrc:\n",
    "        netrc.write(f\"machine urs.earthdata.nasa.gov login {username} password {password}\\n\")\n",
    "    \n",
    "    print(f\"Credentials stored in {netrc_file.name}\")\n",
    "\n",
    "def exit_with_error(message):\n",
    "    \"\"\"输出错误信息并退出\"\"\"\n",
    "    print(\"\\nUnable to Retrieve Data\\n\")\n",
    "    print(message)\n",
    "    print(\"\\nhttps://data.lpdaac.earthdatacloud.nasa.gov/lp-prod-protected/ASTGTM.003/ASTGTMV003_N03E008_dem.tif\")\n",
    "    exit(1)\n",
    "\n",
    "def detect_app_approval():\n",
    "    \"\"\"检测应用授权状态\"\"\"\n",
    "    url = 'https://data.lpdaac.earthdatacloud.nasa.gov/lp-prod-protected/ASTGTM.003/ASTGTMV003_N03E008_dem.tif'\n",
    "    try:\n",
    "        response = requests.get(url, cookies=cookiejar, allow_redirects=True, auth=(netrc_file.name, ''))\n",
    "        if response.status_code not in [200, 301, 302]:\n",
    "            exit_with_error(\"Please ensure that you have authorized the remote application by visiting the link below.\")\n",
    "    except requests.RequestException as e:\n",
    "        exit_with_error(f\"Request failed: {e}\")\n",
    "\n",
    "def setup_auth():\n",
    "    \"\"\"设置认证逻辑\"\"\"\n",
    "    url = 'https://data.lpdaac.earthdatacloud.nasa.gov/lp-prod-protected/ASTGTM.003/ASTGTMV003_N03E008_dem.tif'\n",
    "    response = requests.head(url)\n",
    "    \n",
    "    # 如果返回状态不是200或者304，表示需要URS认证\n",
    "    if response.status_code not in [200, 304]:\n",
    "        detect_app_approval()\n",
    "\n",
    "def fetch_urls(url_list):\n",
    "    \"\"\"下载指定的URL列表中的数据\"\"\"\n",
    "    for url in url_list:\n",
    "        # 获取文件名\n",
    "        filename = os.path.basename(url)\n",
    "        stripped_filename = filename.split('?')[0]  # 去掉URL中的查询参数\n",
    "\n",
    "        # 下载文件\n",
    "        try:\n",
    "            response = requests.get(url, cookies=cookiejar, auth=(netrc_file.name, ''), stream=True)\n",
    "            print(response)\n",
    "            if response.status_code == 200:\n",
    "                with open(stripped_filename, 'wb') as f:\n",
    "                    for chunk in response.iter_content(chunk_size=1024):\n",
    "                        if chunk:\n",
    "                            f.write(chunk)\n",
    "                print(f\"Downloaded: {stripped_filename}\")\n",
    "            else:\n",
    "                exit_with_error(\"Command failed with error. Please retrieve the data manually.\")\n",
    "        except requests.RequestException as e:\n",
    "            exit_with_error(f\"Request failed: {e}\")\n",
    "\n",
    "\n"
   ]
  },
  {
   "cell_type": "code",
   "execution_count": 2,
   "metadata": {},
   "outputs": [
    {
     "name": "stdout",
     "output_type": "stream",
     "text": [
      "Enter your Earthdata Login or other provider supplied credentials\n",
      "Credentials stored in C:\\Users\\bigvan\\AppData\\Local\\Temp\\tmpdi9i9hcq\n"
     ]
    }
   ],
   "source": [
    "def main():\n",
    "    prompt_credentials()\n",
    "    setup_auth()\n",
    "\n",
    "    # 可以从文件或其他来源提供下载链接\n",
    "    url_list = [\n",
    "        'https://data.lpdaac.earthdatacloud.nasa.gov/lp-prod-protected/ASTGTM.003/ASTGTMV003_N03E008_dem.tif'\n",
    "    ]\n",
    "\n",
    "    fetch_urls(url_list)\n",
    "\n",
    "if __name__ == '__main__':\n",
    "    main()"
   ]
  }
 ],
 "metadata": {
  "kernelspec": {
   "display_name": "base",
   "language": "python",
   "name": "python3"
  },
  "language_info": {
   "codemirror_mode": {
    "name": "ipython",
    "version": 3
   },
   "file_extension": ".py",
   "mimetype": "text/x-python",
   "name": "python",
   "nbconvert_exporter": "python",
   "pygments_lexer": "ipython3",
   "version": "3.11.4"
  }
 },
 "nbformat": 4,
 "nbformat_minor": 2
}
